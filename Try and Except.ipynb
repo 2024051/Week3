{
 "cells": [
  {
   "cell_type": "code",
   "execution_count": 7,
   "id": "f0c20253",
   "metadata": {},
   "outputs": [
    {
     "name": "stdout",
     "output_type": "stream",
     "text": [
      "What is your score?python\n"
     ]
    }
   ],
   "source": [
    "try:\n",
    "    score = float(input(\"What is your score?\"))\n",
    "    print(score)\n",
    "except:\n",
    "    # pass means nothing happens\n",
    "    pass \n",
    "\n",
    "\n"
   ]
  },
  {
   "cell_type": "code",
   "execution_count": 13,
   "id": "3d345d6a",
   "metadata": {},
   "outputs": [
    {
     "name": "stdout",
     "output_type": "stream",
     "text": [
      "What is your score?python\n",
      "Warning - the score must be a number!\n",
      "9\n",
      "could not convert string to float: 'python'\n",
      "Always run\n"
     ]
    }
   ],
   "source": [
    "try:\n",
    "    score = float(input(\"What is your score?\"))\n",
    "    print(score)\n",
    "except Exception as error:\n",
    "    print(\"Warning - the score must be a number!\")\n",
    "    answer = 4 + 5\n",
    "    print(answer)\n",
    "    print(error)\n",
    "print(\"Always run\")"
   ]
  },
  {
   "cell_type": "code",
   "execution_count": null,
   "id": "5acc5d81",
   "metadata": {},
   "outputs": [],
   "source": []
  }
 ],
 "metadata": {
  "kernelspec": {
   "display_name": "Python 3 (ipykernel)",
   "language": "python",
   "name": "python3"
  },
  "language_info": {
   "codemirror_mode": {
    "name": "ipython",
    "version": 3
   },
   "file_extension": ".py",
   "mimetype": "text/x-python",
   "name": "python",
   "nbconvert_exporter": "python",
   "pygments_lexer": "ipython3",
   "version": "3.11.5"
  }
 },
 "nbformat": 4,
 "nbformat_minor": 5
}
